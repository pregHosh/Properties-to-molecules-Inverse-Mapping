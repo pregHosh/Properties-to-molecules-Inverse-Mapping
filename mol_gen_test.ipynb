{
 "cells": [
  {
   "cell_type": "code",
   "execution_count": 1,
   "metadata": {},
   "outputs": [
    {
     "name": "stderr",
     "output_type": "stream",
     "text": [
      "Lightning automatically upgraded your loaded checkpoint from v1.5.10 to v2.2.2. To apply the upgrade to your files permanently, run `python -m pytorch_lightning.utilities.upgrade_checkpoint last.ckpt`\n"
     ]
    }
   ],
   "source": [
    "import numpy as np\n",
    "from matplotlib import pyplot as plt\n",
    "from molecular_generation_utils import *\n",
    "from invert_CM import *\n",
    "import torch\n",
    "from Model import Multi_VAE\n",
    "from torch.distributions.categorical import Categorical\n",
    "from tqdm import tqdm\n",
    "import copy\n",
    "\n",
    "reproduce_paper = False\n",
    "\n",
    "if reproduce_paper:\n",
    "    paper_path = '_paper'\n",
    "else:\n",
    "    paper_path = ''\n",
    "\n",
    "\n",
    "properties = torch.load('./data/properties_total.pt'.format(paper_path))\n",
    "p_means = torch.load('./data/properties_means.pt'.format(paper_path))\n",
    "p_stds = torch.load('./data/properties_stds.pt'.format(paper_path))\n",
    "norm_props = (properties - p_means)/p_stds\n",
    "\n",
    "properties_list =  ['eAT', 'eMBD', 'eXX', 'mPOL', 'eNN', 'eNE', 'eEE', 'eKIN', 'DIP', 'HLgap', 'HOMO_0', 'LUMO_0', 'HOMO_1', 'LUMO_1', 'HOMO_2', 'LUMO_2', 'dimension']\n",
    "p_arr = np.array(properties_list)\n",
    "\n",
    "PATH = \"last.ckpt\"\n",
    "#'./models_saved/masked/epoch=2597-step=145487.ckpt'\n",
    "\n",
    "modello = Multi_VAE.load_from_checkpoint(\n",
    "    PATH,\n",
    "    map_location=torch.device('cpu'),\n",
    "    structures_dim = len(torch.load('./data/data_val/CMs.pt')[0,:]),\n",
    "    properties_dim = len(torch.load('./data/data_val/properties.pt')[0,:]),\n",
    "    latent_size = 21,\n",
    "    extra_dim = 32 - len(torch.load('./data/data_val/properties.pt')[0,:]),\n",
    "    initial_lr = 1e-3,\n",
    "    properties_means = p_means,\n",
    "    properties_stds = p_stds,\n",
    "    beta = 4.,\n",
    "    alpha = 1.,\n",
    "    decay = .01\n",
    ")\n",
    "\n",
    "# if you want the non-masked model uncomment this\n",
    "\n",
    "# if reproduce_paper == True:\n",
    "#     PATH='./special/VAE_reduced_21'\n",
    "#     modello.VAE.load_state_dict(torch.load(PATH,map_location=torch.device('cpu')))\n",
    "#     PATH='./special/prop_ecoder_reduced_21'\n",
    "#     modello.property_encoder.load_state_dict(torch.load(PATH,map_location=torch.device('cpu')))\n",
    "\n",
    "modello.eval()\n",
    "modello.freeze()"
   ]
  },
  {
   "attachments": {},
   "cell_type": "markdown",
   "metadata": {},
   "source": [
    "Fit the dataset property distribution with 91 (optional number) Gaussians"
   ]
  },
  {
   "cell_type": "code",
   "execution_count": 2,
   "metadata": {},
   "outputs": [
    {
     "name": "stderr",
     "output_type": "stream",
     "text": [
      "100%|██████████| 1/1 [01:06<00:00, 66.43s/it]\n"
     ]
    },
    {
     "name": "stdout",
     "output_type": "stream",
     "text": [
      "using 91 components\n"
     ]
    }
   ],
   "source": [
    "gm, labels = props_fit_Gaussian_mix(\n",
    "    norm_props, \n",
    "    min_components = 91,\n",
    "    max_components = 92\n",
    "    )"
   ]
  },
  {
   "cell_type": "code",
   "execution_count": 28,
   "metadata": {},
   "outputs": [
    {
     "name": "stdout",
     "output_type": "stream",
     "text": [
      ". sampling...\n"
     ]
    }
   ],
   "source": [
    "# recall that here the target value is the normalized one\n",
    "\n",
    "generated = start_generation(\n",
    "    modello,\n",
    "    {\n",
    "        'mPOL': 2.,\n",
    "        'eMBD': 2.\n",
    "    },\n",
    "    p_arr,\n",
    "    177,\n",
    "    int(5e3),\n",
    "    gm.means_,\n",
    "    gm.covariances_,\n",
    "    cm_diff = 5,\n",
    "    deltaz = 6,\n",
    "    check_new_comp = False,\n",
    "    verbose = False\n",
    ")"
   ]
  },
  {
   "cell_type": "code",
   "execution_count": 21,
   "metadata": {},
   "outputs": [
    {
     "data": {
      "text/plain": [
       "tensor([[ 0.0000,  0.0000,  0.0000,  0.0000,  0.0000,  0.0000,  0.0000,  0.0000,\n",
       "          0.0000,  0.0000,  0.0000,  0.0000,  0.0000,  0.0000,  0.0000,  0.0000,\n",
       "          0.0000,  0.0000,  0.0000,  0.0000,  0.0000,  0.0000,  0.0000, 53.2490,\n",
       "         27.9465,  0.0000, 29.6464, 28.7070, 18.0329, 11.5656,  0.0000,  0.0000,\n",
       "          0.0000, 53.4911,  0.0000, 15.0017, 17.4622, 32.0798, 17.4420,  0.0000,\n",
       "          0.0000,  0.0000,  0.0000,  0.0000,  0.0000,  0.0000,  0.0000,  0.0000,\n",
       "          0.0000,  0.0000, 36.8712, 23.6193, 13.7001,  9.5845,  0.0000,  0.0000,\n",
       "          0.0000, 36.8700, 16.9338, 10.4884,  0.0000,  0.0000,  0.0000, 36.8835,\n",
       "         22.2107,  0.0000,  0.0000,  0.0000, 36.8683,  0.0000,  0.0000,  0.0000,\n",
       "          0.0000,  0.0000,  0.0000,  0.0000,  0.0000,  0.0000],\n",
       "        [ 0.0000,  0.0000,  0.0000,  0.0000,  0.0000,  0.0000,  0.0000,  0.0000,\n",
       "          0.0000,  0.0000,  0.0000,  0.0000,  0.0000,  0.0000,  0.0000,  0.0000,\n",
       "          0.0000,  0.0000,  0.0000,  0.0000,  0.0000,  0.0000,  0.0000, 53.2659,\n",
       "         31.1922,  0.0000, 17.0829, 31.0629, 17.7294, 11.7821,  7.8595,  0.0000,\n",
       "          0.0000, 53.4239,  0.0000, 13.1017, 17.1854, 31.2766, 19.1911, 11.5791,\n",
       "          0.0000,  0.0000,  0.0000,  0.0000,  0.0000,  0.0000,  0.0000,  0.0000,\n",
       "          0.0000,  0.0000, 36.8238, 24.4475,  9.9135,  7.3291,  6.0391,  0.0000,\n",
       "          0.0000, 36.8251, 13.0874,  8.4368,  6.5682,  0.0000,  0.0000, 36.7911,\n",
       "         21.7982, 12.6307,  0.0000,  0.0000, 36.8400, 23.5237,  0.0000,  0.0000,\n",
       "         35.6893,  0.0000,  0.0000,  0.0000,  0.0000,  0.0000],\n",
       "        [ 0.0000,  0.0000,  0.0000,  0.0000,  0.0000,  0.0000,  0.0000,  0.0000,\n",
       "          0.0000,  0.0000,  0.0000,  0.0000,  0.0000,  0.0000,  0.0000,  0.0000,\n",
       "          0.0000,  0.0000,  0.0000,  0.0000,  0.0000,  0.0000,  0.0000, 53.2317,\n",
       "         23.4275,  0.0000, 29.2871, 27.8279, 16.2084, 10.5008,  0.0000,  0.0000,\n",
       "          0.0000, 53.1580,  0.0000, 15.3737, 18.5713, 31.1551, 18.2093,  0.0000,\n",
       "          0.0000,  0.0000,  0.0000,  0.0000,  0.0000,  0.0000,  0.0000,  0.0000,\n",
       "          0.0000,  0.0000, 36.8412, 22.6547, 11.6326,  7.5593,  0.0000,  0.0000,\n",
       "          0.0000, 36.8353, 14.7408,  8.6803,  0.0000,  0.0000,  0.0000, 36.7980,\n",
       "         20.7207,  0.0000,  0.0000,  0.0000, 36.6754,  0.0000,  0.0000,  0.0000,\n",
       "          0.0000,  0.0000,  0.0000,  0.0000,  0.0000,  0.0000],\n",
       "        [ 0.0000,  0.0000,  0.0000,  0.0000,  0.0000,  0.0000,  0.0000,  0.0000,\n",
       "          0.0000,  0.0000,  0.0000,  0.0000,  0.0000,  0.0000,  0.0000,  0.0000,\n",
       "          0.0000,  0.0000,  0.0000,  0.0000,  0.0000,  0.0000,  0.0000, 53.1784,\n",
       "         26.5147,  0.0000, 29.5057, 26.0430, 17.6271, 12.8266,  0.0000,  0.0000,\n",
       "          0.0000, 53.1483,  0.0000, 17.7991, 21.5241, 27.2181, 15.9154,  0.0000,\n",
       "          0.0000,  0.0000,  0.0000,  0.0000,  0.0000,  0.0000,  0.0000,  0.0000,\n",
       "          0.0000,  0.0000, 36.8491, 23.2290, 13.4764, 10.5612,  0.0000,  0.0000,\n",
       "          0.0000, 36.8469, 17.0353, 11.2297,  0.0000,  0.0000,  0.0000, 36.8652,\n",
       "         24.1220,  0.0000,  0.0000,  0.0000, 36.8094,  0.0000,  0.0000,  0.0000,\n",
       "          0.0000,  0.0000,  0.0000,  0.0000,  0.0000,  0.0000],\n",
       "        [ 0.0000,  0.0000,  0.0000,  0.0000,  0.0000,  0.0000,  0.0000,  0.0000,\n",
       "          0.0000,  0.0000,  0.0000,  0.0000,  0.0000,  0.0000,  0.0000,  0.0000,\n",
       "          0.0000,  0.0000,  0.0000,  0.0000,  0.0000,  0.0000,  0.0000, 52.9703,\n",
       "         13.2243,  9.3543, 36.5480, 17.2604, 10.7723,  6.1259,  0.0000,  0.0000,\n",
       "          0.0000, 52.8839, 27.6870, 14.5065, 17.3871, 27.4422, 16.3418,  0.0000,\n",
       "          0.0000,  0.0000, 51.8479,  9.9409, 12.9733, 22.3374, 29.8744,  0.0000,\n",
       "          0.0000,  0.0000, 36.8112, 25.0278, 12.0587,  6.1177,  0.0000,  0.0000,\n",
       "          0.0000, 36.8137, 19.0218,  7.3045,  0.0000,  0.0000,  0.0000, 36.7347,\n",
       "         13.5774,  0.0000,  0.0000,  0.0000, 36.7550,  0.0000,  0.0000,  0.0000,\n",
       "          0.0000,  0.0000,  0.0000,  0.0000,  0.0000,  0.0000],\n",
       "        [ 0.0000,  0.0000,  0.0000,  0.0000,  0.0000,  0.0000,  0.0000,  0.0000,\n",
       "          0.0000,  0.0000,  0.0000,  0.0000,  0.0000,  0.0000,  0.0000,  0.0000,\n",
       "          0.0000,  0.0000,  0.0000,  0.0000,  0.0000,  0.0000,  0.0000, 53.2390,\n",
       "         17.7079,  0.0000, 30.1995, 28.9699, 18.6945, 10.6375,  0.0000,  0.0000,\n",
       "          0.0000, 53.3373,  0.0000, 14.2678, 17.2010, 30.3726, 23.4049,  0.0000,\n",
       "          0.0000,  0.0000,  0.0000,  0.0000,  0.0000,  0.0000,  0.0000,  0.0000,\n",
       "          0.0000,  0.0000, 36.8727, 20.7635, 14.7771,  8.7245,  0.0000,  0.0000,\n",
       "          0.0000, 36.8683, 20.5615, 10.4149,  0.0000,  0.0000,  0.0000, 36.8646,\n",
       "         17.6537,  0.0000,  0.0000,  0.0000, 36.7650,  0.0000,  0.0000,  0.0000,\n",
       "          0.0000,  0.0000,  0.0000,  0.0000,  0.0000,  0.0000],\n",
       "        [ 0.0000,  0.0000,  0.0000,  0.0000,  0.0000,  0.0000,  0.0000,  0.0000,\n",
       "          0.0000,  0.0000,  0.0000,  0.0000,  0.0000,  0.0000,  0.0000,  0.0000,\n",
       "          0.0000,  0.0000,  0.0000,  0.0000,  0.0000,  0.0000,  0.0000, 53.1993,\n",
       "         20.3972,  0.0000, 29.8828, 28.5753, 18.0066, 10.9100,  0.0000,  0.0000,\n",
       "          0.0000, 53.0317,  0.0000, 15.2132, 18.3838, 31.5561, 18.7253,  0.0000,\n",
       "          0.0000,  0.0000,  0.0000,  0.0000,  0.0000,  0.0000,  0.0000,  0.0000,\n",
       "          0.0000,  0.0000, 36.8382, 21.7845, 13.9415,  8.8628,  0.0000,  0.0000,\n",
       "          0.0000, 36.8361, 17.0097,  9.4278,  0.0000,  0.0000,  0.0000, 36.8278,\n",
       "         19.1905,  0.0000,  0.0000,  0.0000, 36.7978,  0.0000,  0.0000,  0.0000,\n",
       "          0.0000,  0.0000,  0.0000,  0.0000,  0.0000,  0.0000],\n",
       "        [ 0.0000,  0.0000,  0.0000,  0.0000,  0.0000,  0.0000,  0.0000,  0.0000,\n",
       "          0.0000,  0.0000,  0.0000,  0.0000,  0.0000,  0.0000,  0.0000,  0.0000,\n",
       "          0.0000,  0.0000,  0.0000,  0.0000,  0.0000,  0.0000,  0.0000, 52.8409,\n",
       "         14.2589,  9.4272, 35.0134, 18.4155, 11.6151,  7.1186,  0.0000,  0.0000,\n",
       "          0.0000, 53.0884, 27.4420, 15.5746, 19.2983, 26.8848, 15.1458,  0.0000,\n",
       "          0.0000,  0.0000, 50.2452,  9.8797, 13.0214, 23.4586, 26.8485,  0.0000,\n",
       "          0.0000,  0.0000, 36.7862, 24.4276, 12.8758,  6.6235,  0.0000,  0.0000,\n",
       "          0.0000, 36.7899, 20.0717,  8.0269,  0.0000,  0.0000,  0.0000, 36.7358,\n",
       "         15.4954,  0.0000,  0.0000,  0.0000, 36.6028,  0.0000,  0.0000,  0.0000,\n",
       "          0.0000,  0.0000,  0.0000,  0.0000,  0.0000,  0.0000],\n",
       "        [ 0.0000,  0.0000,  0.0000,  0.0000,  0.0000,  0.0000,  0.0000,  0.0000,\n",
       "          0.0000,  0.0000,  0.0000,  0.0000,  0.0000,  0.0000,  0.0000,  0.0000,\n",
       "          0.0000,  0.0000,  0.0000,  0.0000,  0.0000,  0.0000,  0.0000, 53.3196,\n",
       "         19.7025,  0.0000, 32.0715, 23.4116, 17.3527, 10.4837,  0.0000,  0.0000,\n",
       "          0.0000, 53.4841,  0.0000, 15.1760, 19.7821, 30.2067, 20.2896,  0.0000,\n",
       "          0.0000,  0.0000,  0.0000,  0.0000,  0.0000,  0.0000,  0.0000,  0.0000,\n",
       "          0.0000,  0.0000, 36.8852, 23.6776, 15.0928,  9.2897,  0.0000,  0.0000,\n",
       "          0.0000, 36.8873, 21.4036, 10.9141,  0.0000,  0.0000,  0.0000, 36.8904,\n",
       "         18.2987,  0.0000,  0.0000,  0.0000, 36.8543,  0.0000,  0.0000,  0.0000,\n",
       "          0.0000,  0.0000,  0.0000,  0.0000,  0.0000,  0.0000],\n",
       "        [ 0.0000,  0.0000,  0.0000,  0.0000,  0.0000,  0.0000,  0.0000,  0.0000,\n",
       "          0.0000,  0.0000,  0.0000,  0.0000,  0.0000,  0.0000,  0.0000,  0.0000,\n",
       "          0.0000,  0.0000,  0.0000,  0.0000,  0.0000,  0.0000,  0.0000, 52.9653,\n",
       "         13.2426, 10.1864, 35.7384, 16.5415, 11.7700,  7.6785,  0.0000,  0.0000,\n",
       "          0.0000, 53.1721, 24.8227, 14.6719, 17.6857, 27.5510, 15.8048,  0.0000,\n",
       "          0.0000,  0.0000, 50.9013, 10.3591, 13.5342, 23.6297, 28.9605,  0.0000,\n",
       "          0.0000,  0.0000, 36.8180, 24.8929, 13.4833,  7.1100,  0.0000,  0.0000,\n",
       "          0.0000, 36.8182, 20.8751,  8.3788,  0.0000,  0.0000,  0.0000, 36.7513,\n",
       "         13.7094,  0.0000,  0.0000,  0.0000, 36.7027,  0.0000,  0.0000,  0.0000,\n",
       "          0.0000,  0.0000,  0.0000,  0.0000,  0.0000,  0.0000],\n",
       "        [ 0.0000,  0.0000,  0.0000,  0.0000,  0.0000,  0.0000,  0.0000,  0.0000,\n",
       "          0.0000,  0.0000,  0.0000,  0.0000,  0.0000,  0.0000,  0.0000,  0.0000,\n",
       "          0.0000,  0.0000,  0.0000,  0.0000,  0.0000,  0.0000,  0.0000, 53.4398,\n",
       "         26.5378,  0.0000, 33.4605, 18.2963, 20.8061, 11.6585,  0.0000,  0.0000,\n",
       "          0.0000, 53.9774,  0.0000, 18.5462, 24.0626, 27.7925, 19.1515,  0.0000,\n",
       "          0.0000,  0.0000,  0.0000,  0.0000,  0.0000,  0.0000,  0.0000,  0.0000,\n",
       "          0.0000,  0.0000, 36.8834, 21.9742, 14.7612,  9.2313,  0.0000,  0.0000,\n",
       "          0.0000, 36.8827, 22.2281, 11.6790,  0.0000,  0.0000,  0.0000, 36.8773,\n",
       "         20.5931,  0.0000,  0.0000,  0.0000, 36.8893,  0.0000,  0.0000,  0.0000,\n",
       "          0.0000,  0.0000,  0.0000,  0.0000,  0.0000,  0.0000]])"
      ]
     },
     "execution_count": 21,
     "metadata": {},
     "output_type": "execute_result"
    }
   ],
   "source": [
    "generated"
   ]
  },
  {
   "cell_type": "code",
   "execution_count": 6,
   "metadata": {},
   "outputs": [],
   "source": [
    "# load the coulomb matrices in the dataset\n",
    "CMs = torch.load('./data/CMs_total.pt'.format(paper_path))"
   ]
  },
  {
   "cell_type": "code",
   "execution_count": 24,
   "metadata": {},
   "outputs": [
    {
     "data": {
      "text/plain": [
       "torch.Size([11, 78])"
      ]
     },
     "execution_count": 24,
     "metadata": {},
     "output_type": "execute_result"
    }
   ],
   "source": [
    "generated.shape"
   ]
  },
  {
   "cell_type": "code",
   "execution_count": 31,
   "metadata": {},
   "outputs": [
    {
     "name": "stdout",
     "output_type": "stream",
     "text": [
      "Master Vector: [7, 7, 7, 6, 6, 6, 6]\n",
      "Cartesian coordinates: [[ 0.          0.          0.        ]\n",
      " [-2.97932195  0.01391998  0.8499687 ]\n",
      " [ 1.15493985 -2.09494965 -0.78506197]\n",
      " [ 0.30538698 -2.21777407  1.08486012]\n",
      " [-2.23209952 -0.94078425 -0.78063634]\n",
      " [-2.63188328 -0.15410293 -0.53286497]\n",
      " [-0.59227469 -1.06840166  0.06275601]]\n",
      "Recovered mol:\n"
     ]
    },
    {
     "data": {
      "text/plain": [
       "<Popen: returncode: None args: ['/Users/jan/miniconda3/bin/python', '-m', 'a...>"
      ]
     },
     "execution_count": 31,
     "metadata": {},
     "output_type": "execute_result"
    }
   ],
   "source": [
    "CM = generated[177]\n",
    "\n",
    "from invert_CM import *\n",
    "from CM_preparation import *\n",
    "\n",
    "distance_mat, master_vec2 = recover_distance_mat(\n",
    "    CM \n",
    ")\n",
    "\n",
    "\n",
    "print(\"Master Vector:\", master_vec2)\n",
    "\n",
    "# Recover the Cartesian coordinates\n",
    "cartesian = cartesian_recovery(distance_mat)\n",
    "# truncate last two columns\n",
    "cartesian = cartesian[:,0:3]\n",
    "# remove imaginary part\n",
    "cartesian = np.real(cartesian)\n",
    "print(\"Cartesian coordinates:\", cartesian)\n",
    "\n",
    "# Create the recovered ASE Atoms object\n",
    "rec_mol = Atoms(symbols=master_vec2, positions=cartesian)\n",
    "print(\"Recovered mol:\")\n",
    "view(rec_mol)\n",
    "# Get the RMSD between the original and recovered molecule"
   ]
  },
  {
   "cell_type": "code",
   "execution_count": 15,
   "metadata": {},
   "outputs": [],
   "source": [
    "#find the closest mmatrix in the dataset\n",
    "\n",
    "where_closest = []\n",
    "for cm in generated:\n",
    "    where_closest.append(torch.argmin(torch.norm(CMs - cm.view(1,-1), dim = 1)))\n",
    "    #print(torch.norm(CMs - cm.view(1,-1), dim = 1).min())"
   ]
  },
  {
   "cell_type": "code",
   "execution_count": 16,
   "metadata": {},
   "outputs": [
    {
     "name": "stdout",
     "output_type": "stream",
     "text": [
      "6\n",
      "[7, 7, 6, 6, 6, 6] 6\n"
     ]
    },
    {
     "ename": "NameError",
     "evalue": "name 'calc' is not defined",
     "output_type": "error",
     "traceback": [
      "\u001b[0;31m---------------------------------------------------------------------------\u001b[0m",
      "\u001b[0;31mNameError\u001b[0m                                 Traceback (most recent call last)",
      "Cell \u001b[0;32mIn[16], line 37\u001b[0m\n\u001b[1;32m     35\u001b[0m c \u001b[38;5;241m=\u001b[39m FixAtoms(indices\u001b[38;5;241m=\u001b[39m[atomo\u001b[38;5;241m.\u001b[39mindex \u001b[38;5;28;01mfor\u001b[39;00m atomo \u001b[38;5;129;01min\u001b[39;00m atom \u001b[38;5;28;01mif\u001b[39;00m atomo\u001b[38;5;241m.\u001b[39msymbol \u001b[38;5;241m!=\u001b[39m \u001b[38;5;124m'\u001b[39m\u001b[38;5;124mH\u001b[39m\u001b[38;5;124m'\u001b[39m])\n\u001b[1;32m     36\u001b[0m atom\u001b[38;5;241m.\u001b[39mset_constraint(c)\n\u001b[0;32m---> 37\u001b[0m atom\u001b[38;5;241m.\u001b[39mset_calculator(\u001b[43mcalc\u001b[49m)\n\u001b[1;32m     38\u001b[0m \u001b[38;5;66;03m#try:\u001b[39;00m\n\u001b[1;32m     39\u001b[0m opt \u001b[38;5;241m=\u001b[39m FIRE(atom)\n",
      "\u001b[0;31mNameError\u001b[0m: name 'calc' is not defined"
     ]
    }
   ],
   "source": [
    "#some visualization and optimization\n",
    "\n",
    "import rmsd\n",
    "from ase.visualize import view\n",
    "from ase.optimize import BFGS, FIRE\n",
    "from ase import Atoms\n",
    "from ase.io import write, read\n",
    "from openbabel import openbabel as ob\n",
    "from ase.constraints import FixAtoms\n",
    "\n",
    "# here choose the calculator you prefer, or do not optimize by commenting out the opt steps in the code\n",
    "#from spooks.spookynet import SpookyNetCalculator, spookynet\n",
    "#calc=SpookyNetCalculator(load_from=\"./spooks/qm7x_known_unknown_0.pth\", charge=0, magmom=0)\n",
    "\n",
    "n = 0\n",
    "pos, comp = get_cartesian(generated[n,:].tolist())\n",
    "print(len(comp))\n",
    "atom = Atoms(comp, pos)\n",
    "write('./temp.xyz', atom)\n",
    "obConversion = ob.OBConversion()\n",
    "obConversion.SetInAndOutFormats(\"xyz\", \"mol2\")\n",
    "mol = ob.OBMol()\n",
    "obConversion.ReadFile(mol, \"temp.xyz\")  \n",
    "obConversion.WriteFile(mol, 'temp.mol2')\n",
    "obConversion = ob.OBConversion()\n",
    "obConversion.SetInAndOutFormats(\"mol2\", \"xyz\")\n",
    "mol = ob.OBMol()\n",
    "obConversion.ReadFile(mol, \"temp.mol2\")  \n",
    "mol.ConnectTheDots()\n",
    "mol.PerceiveBondOrders()\n",
    "mol.AddHydrogens()\n",
    "obConversion.WriteFile(mol, './temp.xyz')\n",
    "atom = read('./temp.xyz')\n",
    "print(comp, len(comp))\n",
    "c = FixAtoms(indices=[atomo.index for atomo in atom if atomo.symbol != 'H'])\n",
    "atom.set_constraint(c)\n",
    "atom.set_calculator(calc)\n",
    "#try:\n",
    "opt = FIRE(atom)\n",
    "opt.run(steps = 5)\n",
    "# atom.set_constraint()\n",
    "# opt.run(steps = 10)\n",
    "#except:\n",
    "#    pass\n",
    "view(atom, viewer = 'x3d')"
   ]
  },
  {
   "cell_type": "code",
   "execution_count": 10,
   "metadata": {},
   "outputs": [
    {
     "name": "stdout",
     "output_type": "stream",
     "text": [
      "6\n"
     ]
    },
    {
     "data": {
      "text/html": [
       "<html>\n",
       "    <head>\n",
       "        <title>ASE atomic visualization</title>\n",
       "        <link rel=\"stylesheet\" type=\"text/css\"             href=\"https://www.x3dom.org/release/x3dom.css\"></link>\n",
       "        <script type=\"text/javascript\"             src=\"https://www.x3dom.org/release/x3dom.js\"></script>\n",
       "    </head>\n",
       "    <body>\n",
       "        <X3D width=\"400px\"; height=\"300px\";>\n",
       "\n",
       "<!--Inserting Generated X3D Scene-->\n",
       "<scene>\n",
       "  <viewpoint position=\"0 0 9.34840575038259\">\n",
       "    <group/>\n",
       "  </viewpoint>\n",
       "  <transform translation=\"-0.0 -0.0 -0.0\">\n",
       "    <group>\n",
       "      <group>\n",
       "        <transform translation=\"0 0 0\">\n",
       "          <shape>\n",
       "            <appearance>\n",
       "              <material diffuseColor=\"0 0 0\"/>\n",
       "            </appearance>\n",
       "            <lineset vertexCount=\"5\">\n",
       "              <coordinate point=\"0 0 0 0.0 0.0 0.0 0.0 0.0 0.0 0.0 0.0 0.0 0 0 0\"/>\n",
       "            </lineset>\n",
       "          </shape>\n",
       "        </transform>\n",
       "        <transform translation=\"0.0 0.0 0.0\">\n",
       "          <shape>\n",
       "            <appearance>\n",
       "              <material diffuseColor=\"0 0 0\"/>\n",
       "            </appearance>\n",
       "            <lineset vertexCount=\"5\">\n",
       "              <coordinate point=\"0 0 0 0.0 0.0 0.0 0.0 0.0 0.0 0.0 0.0 0.0 0 0 0\"/>\n",
       "            </lineset>\n",
       "          </shape>\n",
       "        </transform>\n",
       "        <transform translation=\"0 0 0\">\n",
       "          <shape>\n",
       "            <appearance>\n",
       "              <material diffuseColor=\"0 0 0\"/>\n",
       "            </appearance>\n",
       "            <lineset vertexCount=\"5\">\n",
       "              <coordinate point=\"0 0 0 0.0 0.0 0.0 0.0 0.0 0.0 0.0 0.0 0.0 0 0 0\"/>\n",
       "            </lineset>\n",
       "          </shape>\n",
       "        </transform>\n",
       "        <transform translation=\"0.0 0.0 0.0\">\n",
       "          <shape>\n",
       "            <appearance>\n",
       "              <material diffuseColor=\"0 0 0\"/>\n",
       "            </appearance>\n",
       "            <lineset vertexCount=\"5\">\n",
       "              <coordinate point=\"0 0 0 0.0 0.0 0.0 0.0 0.0 0.0 0.0 0.0 0.0 0 0 0\"/>\n",
       "            </lineset>\n",
       "          </shape>\n",
       "        </transform>\n",
       "      </group>\n",
       "      <group>\n",
       "        <transform translation=\"0.0 0.0 0.0\">\n",
       "          <shape>\n",
       "            <appearance>\n",
       "              <material diffuseColor=\"0.188 0.314 0.973\"/>\n",
       "            </appearance>\n",
       "            <sphere radius=\"0.71\"/>\n",
       "          </shape>\n",
       "        </transform>\n",
       "        <transform translation=\"1.3261830020337657 -0.1341084862921089 -0.4964507613200091\">\n",
       "          <shape>\n",
       "            <appearance>\n",
       "              <material diffuseColor=\"0.188 0.314 0.973\"/>\n",
       "            </appearance>\n",
       "            <sphere radius=\"0.71\"/>\n",
       "          </shape>\n",
       "        </transform>\n",
       "        <transform translation=\"-0.9600719741035069 0.6387949680325088 -0.8959811604474613\">\n",
       "          <shape>\n",
       "            <appearance>\n",
       "              <material diffuseColor=\"0.565 0.565 0.565\"/>\n",
       "            </appearance>\n",
       "            <sphere radius=\"0.76\"/>\n",
       "          </shape>\n",
       "        </transform>\n",
       "        <transform translation=\"-0.48016657877923774 1.3401862982587487 0.33714678791850866\">\n",
       "          <shape>\n",
       "            <appearance>\n",
       "              <material diffuseColor=\"0.565 0.565 0.565\"/>\n",
       "            </appearance>\n",
       "            <sphere radius=\"0.76\"/>\n",
       "          </shape>\n",
       "        </transform>\n",
       "        <transform translation=\"2.277021298511237 0.3440210523436528 0.23599552675292282\">\n",
       "          <shape>\n",
       "            <appearance>\n",
       "              <material diffuseColor=\"0.565 0.565 0.565\"/>\n",
       "            </appearance>\n",
       "            <sphere radius=\"0.76\"/>\n",
       "          </shape>\n",
       "        </transform>\n",
       "        <transform translation=\"3.714130901087788 0.17536025647444028 -0.15543395666547238\">\n",
       "          <shape>\n",
       "            <appearance>\n",
       "              <material diffuseColor=\"0.565 0.565 0.565\"/>\n",
       "            </appearance>\n",
       "            <sphere radius=\"0.76\"/>\n",
       "          </shape>\n",
       "        </transform>\n",
       "      </group>\n",
       "    </group>\n",
       "  </transform>\n",
       "</scene>\n",
       "<!--End of Inserted Scene-->\n",
       "\n",
       "        </X3D>\n",
       "    </body>\n",
       "</html>\n",
       "\n"
      ],
      "text/plain": [
       "<IPython.core.display.HTML object>"
      ]
     },
     "execution_count": 10,
     "metadata": {},
     "output_type": "execute_result"
    }
   ],
   "source": [
    "# visualize the closest molecules in the dataset by coulomb matrix\n",
    "\n",
    "import rmsd\n",
    "from ase.visualize import view\n",
    "from ase import Atoms\n",
    "\n",
    "pos, comp = get_cartesian(CMs[where_closest[n],:].tolist())\n",
    "print(len(comp))\n",
    "atom = Atoms(comp, pos)\n",
    "view(atom, viewer = 'x3d')"
   ]
  },
  {
   "cell_type": "code",
   "execution_count": 11,
   "metadata": {},
   "outputs": [
    {
     "ename": "FileNotFoundError",
     "evalue": "[Errno 2] No such file or directory: '/work/projects/tcp/lmedrano/alessio/vae/mol-new/code/fhi/extract/xyzfiles2/12/data-12.dat'",
     "output_type": "error",
     "traceback": [
      "\u001b[0;31m---------------------------------------------------------------------------\u001b[0m",
      "\u001b[0;31mFileNotFoundError\u001b[0m                         Traceback (most recent call last)",
      "Cell \u001b[0;32mIn[11], line 17\u001b[0m\n\u001b[1;32m     15\u001b[0m plt\u001b[38;5;241m.\u001b[39mscatter(properties[:,\u001b[38;5;241m1\u001b[39m], properties[:,\u001b[38;5;241m3\u001b[39m], c \u001b[38;5;241m=\u001b[39m \u001b[38;5;124m'\u001b[39m\u001b[38;5;124mlightgrey\u001b[39m\u001b[38;5;124m'\u001b[39m, label \u001b[38;5;241m=\u001b[39m \u001b[38;5;124m'\u001b[39m\u001b[38;5;124mQM7-X\u001b[39m\u001b[38;5;124m'\u001b[39m)\n\u001b[1;32m     16\u001b[0m index \u001b[38;5;241m=\u001b[39m [\u001b[38;5;241m0\u001b[39m,\u001b[38;5;241m1\u001b[39m,\u001b[38;5;241m2\u001b[39m,\u001b[38;5;241m4\u001b[39m]\n\u001b[0;32m---> 17\u001b[0m mols \u001b[38;5;241m=\u001b[39m \u001b[43mpd\u001b[49m\u001b[38;5;241;43m.\u001b[39;49m\u001b[43mread_csv\u001b[49m\u001b[43m(\u001b[49m\u001b[38;5;124;43m'\u001b[39;49m\u001b[38;5;124;43m/work/projects/tcp/lmedrano/alessio/vae/mol-new/code/fhi/extract/xyzfiles2/12/data-12.dat\u001b[39;49m\u001b[38;5;124;43m'\u001b[39;49m\u001b[43m,\u001b[49m\u001b[43m \u001b[49m\u001b[43mheader\u001b[49m\u001b[43m \u001b[49m\u001b[38;5;241;43m=\u001b[39;49m\u001b[43m \u001b[49m\u001b[38;5;28;43;01mNone\u001b[39;49;00m\u001b[43m)\u001b[49m\u001b[38;5;241m.\u001b[39mvalues[index]\n\u001b[1;32m     18\u001b[0m \u001b[38;5;28mprint\u001b[39m(mols)\n\u001b[1;32m     19\u001b[0m \u001b[38;5;28;01mfor\u001b[39;00m i \u001b[38;5;129;01min\u001b[39;00m \u001b[38;5;28mrange\u001b[39m(\u001b[38;5;241m0\u001b[39m, \u001b[38;5;28mlen\u001b[39m(mols)):\n",
      "File \u001b[0;32m~/miniconda3/lib/python3.12/site-packages/pandas/io/parsers/readers.py:1026\u001b[0m, in \u001b[0;36mread_csv\u001b[0;34m(filepath_or_buffer, sep, delimiter, header, names, index_col, usecols, dtype, engine, converters, true_values, false_values, skipinitialspace, skiprows, skipfooter, nrows, na_values, keep_default_na, na_filter, verbose, skip_blank_lines, parse_dates, infer_datetime_format, keep_date_col, date_parser, date_format, dayfirst, cache_dates, iterator, chunksize, compression, thousands, decimal, lineterminator, quotechar, quoting, doublequote, escapechar, comment, encoding, encoding_errors, dialect, on_bad_lines, delim_whitespace, low_memory, memory_map, float_precision, storage_options, dtype_backend)\u001b[0m\n\u001b[1;32m   1013\u001b[0m kwds_defaults \u001b[38;5;241m=\u001b[39m _refine_defaults_read(\n\u001b[1;32m   1014\u001b[0m     dialect,\n\u001b[1;32m   1015\u001b[0m     delimiter,\n\u001b[0;32m   (...)\u001b[0m\n\u001b[1;32m   1022\u001b[0m     dtype_backend\u001b[38;5;241m=\u001b[39mdtype_backend,\n\u001b[1;32m   1023\u001b[0m )\n\u001b[1;32m   1024\u001b[0m kwds\u001b[38;5;241m.\u001b[39mupdate(kwds_defaults)\n\u001b[0;32m-> 1026\u001b[0m \u001b[38;5;28;01mreturn\u001b[39;00m \u001b[43m_read\u001b[49m\u001b[43m(\u001b[49m\u001b[43mfilepath_or_buffer\u001b[49m\u001b[43m,\u001b[49m\u001b[43m \u001b[49m\u001b[43mkwds\u001b[49m\u001b[43m)\u001b[49m\n",
      "File \u001b[0;32m~/miniconda3/lib/python3.12/site-packages/pandas/io/parsers/readers.py:620\u001b[0m, in \u001b[0;36m_read\u001b[0;34m(filepath_or_buffer, kwds)\u001b[0m\n\u001b[1;32m    617\u001b[0m _validate_names(kwds\u001b[38;5;241m.\u001b[39mget(\u001b[38;5;124m\"\u001b[39m\u001b[38;5;124mnames\u001b[39m\u001b[38;5;124m\"\u001b[39m, \u001b[38;5;28;01mNone\u001b[39;00m))\n\u001b[1;32m    619\u001b[0m \u001b[38;5;66;03m# Create the parser.\u001b[39;00m\n\u001b[0;32m--> 620\u001b[0m parser \u001b[38;5;241m=\u001b[39m \u001b[43mTextFileReader\u001b[49m\u001b[43m(\u001b[49m\u001b[43mfilepath_or_buffer\u001b[49m\u001b[43m,\u001b[49m\u001b[43m \u001b[49m\u001b[38;5;241;43m*\u001b[39;49m\u001b[38;5;241;43m*\u001b[39;49m\u001b[43mkwds\u001b[49m\u001b[43m)\u001b[49m\n\u001b[1;32m    622\u001b[0m \u001b[38;5;28;01mif\u001b[39;00m chunksize \u001b[38;5;129;01mor\u001b[39;00m iterator:\n\u001b[1;32m    623\u001b[0m     \u001b[38;5;28;01mreturn\u001b[39;00m parser\n",
      "File \u001b[0;32m~/miniconda3/lib/python3.12/site-packages/pandas/io/parsers/readers.py:1620\u001b[0m, in \u001b[0;36mTextFileReader.__init__\u001b[0;34m(self, f, engine, **kwds)\u001b[0m\n\u001b[1;32m   1617\u001b[0m     \u001b[38;5;28mself\u001b[39m\u001b[38;5;241m.\u001b[39moptions[\u001b[38;5;124m\"\u001b[39m\u001b[38;5;124mhas_index_names\u001b[39m\u001b[38;5;124m\"\u001b[39m] \u001b[38;5;241m=\u001b[39m kwds[\u001b[38;5;124m\"\u001b[39m\u001b[38;5;124mhas_index_names\u001b[39m\u001b[38;5;124m\"\u001b[39m]\n\u001b[1;32m   1619\u001b[0m \u001b[38;5;28mself\u001b[39m\u001b[38;5;241m.\u001b[39mhandles: IOHandles \u001b[38;5;241m|\u001b[39m \u001b[38;5;28;01mNone\u001b[39;00m \u001b[38;5;241m=\u001b[39m \u001b[38;5;28;01mNone\u001b[39;00m\n\u001b[0;32m-> 1620\u001b[0m \u001b[38;5;28mself\u001b[39m\u001b[38;5;241m.\u001b[39m_engine \u001b[38;5;241m=\u001b[39m \u001b[38;5;28;43mself\u001b[39;49m\u001b[38;5;241;43m.\u001b[39;49m\u001b[43m_make_engine\u001b[49m\u001b[43m(\u001b[49m\u001b[43mf\u001b[49m\u001b[43m,\u001b[49m\u001b[43m \u001b[49m\u001b[38;5;28;43mself\u001b[39;49m\u001b[38;5;241;43m.\u001b[39;49m\u001b[43mengine\u001b[49m\u001b[43m)\u001b[49m\n",
      "File \u001b[0;32m~/miniconda3/lib/python3.12/site-packages/pandas/io/parsers/readers.py:1880\u001b[0m, in \u001b[0;36mTextFileReader._make_engine\u001b[0;34m(self, f, engine)\u001b[0m\n\u001b[1;32m   1878\u001b[0m     \u001b[38;5;28;01mif\u001b[39;00m \u001b[38;5;124m\"\u001b[39m\u001b[38;5;124mb\u001b[39m\u001b[38;5;124m\"\u001b[39m \u001b[38;5;129;01mnot\u001b[39;00m \u001b[38;5;129;01min\u001b[39;00m mode:\n\u001b[1;32m   1879\u001b[0m         mode \u001b[38;5;241m+\u001b[39m\u001b[38;5;241m=\u001b[39m \u001b[38;5;124m\"\u001b[39m\u001b[38;5;124mb\u001b[39m\u001b[38;5;124m\"\u001b[39m\n\u001b[0;32m-> 1880\u001b[0m \u001b[38;5;28mself\u001b[39m\u001b[38;5;241m.\u001b[39mhandles \u001b[38;5;241m=\u001b[39m \u001b[43mget_handle\u001b[49m\u001b[43m(\u001b[49m\n\u001b[1;32m   1881\u001b[0m \u001b[43m    \u001b[49m\u001b[43mf\u001b[49m\u001b[43m,\u001b[49m\n\u001b[1;32m   1882\u001b[0m \u001b[43m    \u001b[49m\u001b[43mmode\u001b[49m\u001b[43m,\u001b[49m\n\u001b[1;32m   1883\u001b[0m \u001b[43m    \u001b[49m\u001b[43mencoding\u001b[49m\u001b[38;5;241;43m=\u001b[39;49m\u001b[38;5;28;43mself\u001b[39;49m\u001b[38;5;241;43m.\u001b[39;49m\u001b[43moptions\u001b[49m\u001b[38;5;241;43m.\u001b[39;49m\u001b[43mget\u001b[49m\u001b[43m(\u001b[49m\u001b[38;5;124;43m\"\u001b[39;49m\u001b[38;5;124;43mencoding\u001b[39;49m\u001b[38;5;124;43m\"\u001b[39;49m\u001b[43m,\u001b[49m\u001b[43m \u001b[49m\u001b[38;5;28;43;01mNone\u001b[39;49;00m\u001b[43m)\u001b[49m\u001b[43m,\u001b[49m\n\u001b[1;32m   1884\u001b[0m \u001b[43m    \u001b[49m\u001b[43mcompression\u001b[49m\u001b[38;5;241;43m=\u001b[39;49m\u001b[38;5;28;43mself\u001b[39;49m\u001b[38;5;241;43m.\u001b[39;49m\u001b[43moptions\u001b[49m\u001b[38;5;241;43m.\u001b[39;49m\u001b[43mget\u001b[49m\u001b[43m(\u001b[49m\u001b[38;5;124;43m\"\u001b[39;49m\u001b[38;5;124;43mcompression\u001b[39;49m\u001b[38;5;124;43m\"\u001b[39;49m\u001b[43m,\u001b[49m\u001b[43m \u001b[49m\u001b[38;5;28;43;01mNone\u001b[39;49;00m\u001b[43m)\u001b[49m\u001b[43m,\u001b[49m\n\u001b[1;32m   1885\u001b[0m \u001b[43m    \u001b[49m\u001b[43mmemory_map\u001b[49m\u001b[38;5;241;43m=\u001b[39;49m\u001b[38;5;28;43mself\u001b[39;49m\u001b[38;5;241;43m.\u001b[39;49m\u001b[43moptions\u001b[49m\u001b[38;5;241;43m.\u001b[39;49m\u001b[43mget\u001b[49m\u001b[43m(\u001b[49m\u001b[38;5;124;43m\"\u001b[39;49m\u001b[38;5;124;43mmemory_map\u001b[39;49m\u001b[38;5;124;43m\"\u001b[39;49m\u001b[43m,\u001b[49m\u001b[43m \u001b[49m\u001b[38;5;28;43;01mFalse\u001b[39;49;00m\u001b[43m)\u001b[49m\u001b[43m,\u001b[49m\n\u001b[1;32m   1886\u001b[0m \u001b[43m    \u001b[49m\u001b[43mis_text\u001b[49m\u001b[38;5;241;43m=\u001b[39;49m\u001b[43mis_text\u001b[49m\u001b[43m,\u001b[49m\n\u001b[1;32m   1887\u001b[0m \u001b[43m    \u001b[49m\u001b[43merrors\u001b[49m\u001b[38;5;241;43m=\u001b[39;49m\u001b[38;5;28;43mself\u001b[39;49m\u001b[38;5;241;43m.\u001b[39;49m\u001b[43moptions\u001b[49m\u001b[38;5;241;43m.\u001b[39;49m\u001b[43mget\u001b[49m\u001b[43m(\u001b[49m\u001b[38;5;124;43m\"\u001b[39;49m\u001b[38;5;124;43mencoding_errors\u001b[39;49m\u001b[38;5;124;43m\"\u001b[39;49m\u001b[43m,\u001b[49m\u001b[43m \u001b[49m\u001b[38;5;124;43m\"\u001b[39;49m\u001b[38;5;124;43mstrict\u001b[39;49m\u001b[38;5;124;43m\"\u001b[39;49m\u001b[43m)\u001b[49m\u001b[43m,\u001b[49m\n\u001b[1;32m   1888\u001b[0m \u001b[43m    \u001b[49m\u001b[43mstorage_options\u001b[49m\u001b[38;5;241;43m=\u001b[39;49m\u001b[38;5;28;43mself\u001b[39;49m\u001b[38;5;241;43m.\u001b[39;49m\u001b[43moptions\u001b[49m\u001b[38;5;241;43m.\u001b[39;49m\u001b[43mget\u001b[49m\u001b[43m(\u001b[49m\u001b[38;5;124;43m\"\u001b[39;49m\u001b[38;5;124;43mstorage_options\u001b[39;49m\u001b[38;5;124;43m\"\u001b[39;49m\u001b[43m,\u001b[49m\u001b[43m \u001b[49m\u001b[38;5;28;43;01mNone\u001b[39;49;00m\u001b[43m)\u001b[49m\u001b[43m,\u001b[49m\n\u001b[1;32m   1889\u001b[0m \u001b[43m\u001b[49m\u001b[43m)\u001b[49m\n\u001b[1;32m   1890\u001b[0m \u001b[38;5;28;01massert\u001b[39;00m \u001b[38;5;28mself\u001b[39m\u001b[38;5;241m.\u001b[39mhandles \u001b[38;5;129;01mis\u001b[39;00m \u001b[38;5;129;01mnot\u001b[39;00m \u001b[38;5;28;01mNone\u001b[39;00m\n\u001b[1;32m   1891\u001b[0m f \u001b[38;5;241m=\u001b[39m \u001b[38;5;28mself\u001b[39m\u001b[38;5;241m.\u001b[39mhandles\u001b[38;5;241m.\u001b[39mhandle\n",
      "File \u001b[0;32m~/miniconda3/lib/python3.12/site-packages/pandas/io/common.py:873\u001b[0m, in \u001b[0;36mget_handle\u001b[0;34m(path_or_buf, mode, encoding, compression, memory_map, is_text, errors, storage_options)\u001b[0m\n\u001b[1;32m    868\u001b[0m \u001b[38;5;28;01melif\u001b[39;00m \u001b[38;5;28misinstance\u001b[39m(handle, \u001b[38;5;28mstr\u001b[39m):\n\u001b[1;32m    869\u001b[0m     \u001b[38;5;66;03m# Check whether the filename is to be opened in binary mode.\u001b[39;00m\n\u001b[1;32m    870\u001b[0m     \u001b[38;5;66;03m# Binary mode does not support 'encoding' and 'newline'.\u001b[39;00m\n\u001b[1;32m    871\u001b[0m     \u001b[38;5;28;01mif\u001b[39;00m ioargs\u001b[38;5;241m.\u001b[39mencoding \u001b[38;5;129;01mand\u001b[39;00m \u001b[38;5;124m\"\u001b[39m\u001b[38;5;124mb\u001b[39m\u001b[38;5;124m\"\u001b[39m \u001b[38;5;129;01mnot\u001b[39;00m \u001b[38;5;129;01min\u001b[39;00m ioargs\u001b[38;5;241m.\u001b[39mmode:\n\u001b[1;32m    872\u001b[0m         \u001b[38;5;66;03m# Encoding\u001b[39;00m\n\u001b[0;32m--> 873\u001b[0m         handle \u001b[38;5;241m=\u001b[39m \u001b[38;5;28;43mopen\u001b[39;49m\u001b[43m(\u001b[49m\n\u001b[1;32m    874\u001b[0m \u001b[43m            \u001b[49m\u001b[43mhandle\u001b[49m\u001b[43m,\u001b[49m\n\u001b[1;32m    875\u001b[0m \u001b[43m            \u001b[49m\u001b[43mioargs\u001b[49m\u001b[38;5;241;43m.\u001b[39;49m\u001b[43mmode\u001b[49m\u001b[43m,\u001b[49m\n\u001b[1;32m    876\u001b[0m \u001b[43m            \u001b[49m\u001b[43mencoding\u001b[49m\u001b[38;5;241;43m=\u001b[39;49m\u001b[43mioargs\u001b[49m\u001b[38;5;241;43m.\u001b[39;49m\u001b[43mencoding\u001b[49m\u001b[43m,\u001b[49m\n\u001b[1;32m    877\u001b[0m \u001b[43m            \u001b[49m\u001b[43merrors\u001b[49m\u001b[38;5;241;43m=\u001b[39;49m\u001b[43merrors\u001b[49m\u001b[43m,\u001b[49m\n\u001b[1;32m    878\u001b[0m \u001b[43m            \u001b[49m\u001b[43mnewline\u001b[49m\u001b[38;5;241;43m=\u001b[39;49m\u001b[38;5;124;43m\"\u001b[39;49m\u001b[38;5;124;43m\"\u001b[39;49m\u001b[43m,\u001b[49m\n\u001b[1;32m    879\u001b[0m \u001b[43m        \u001b[49m\u001b[43m)\u001b[49m\n\u001b[1;32m    880\u001b[0m     \u001b[38;5;28;01melse\u001b[39;00m:\n\u001b[1;32m    881\u001b[0m         \u001b[38;5;66;03m# Binary mode\u001b[39;00m\n\u001b[1;32m    882\u001b[0m         handle \u001b[38;5;241m=\u001b[39m \u001b[38;5;28mopen\u001b[39m(handle, ioargs\u001b[38;5;241m.\u001b[39mmode)\n",
      "\u001b[0;31mFileNotFoundError\u001b[0m: [Errno 2] No such file or directory: '/work/projects/tcp/lmedrano/alessio/vae/mol-new/code/fhi/extract/xyzfiles2/12/data-12.dat'"
     ]
    },
    {
     "data": {
      "image/png": "[encoded data removed]",
      "text/plain": [
       "<Figure size 809.017x500 with 1 Axes>"
      ]
     },
     "metadata": {},
     "output_type": "display_data"
    }
   ],
   "source": [
    "import pandas as pd\n",
    "\n",
    "import matplotlib.pyplot as plt\n",
    "import matplotlib\n",
    "font = {'family' : \"Times New Roman\",\n",
    "        'weight' : 'normal',\n",
    "        'size'   : 20}\n",
    "\n",
    "matplotlib.rc('font', **font)\n",
    "#plt.rcParams[\"font.family\"] = \"Times New Roman\"\n",
    "\n",
    "gold = (1+(5**0.5))/2\n",
    "plt.figure(figsize=(5*gold,5))\n",
    "\n",
    "plt.scatter(properties[:,1], properties[:,3], c = 'lightgrey', label = 'QM7-X')\n",
    "index = [0,1,2,4]\n",
    "mols = pd.read_csv('/work/projects/tcp/lmedrano/alessio/vae/mol-new/code/fhi/extract/xyzfiles2/12/data-12.dat', header = None).values[index]\n",
    "print(mols)\n",
    "for i in range(0, len(mols)):\n",
    "    if i == 0:\n",
    "        plt.scatter(float(mols[i][0].split()[2]), float(mols[i][0].split()[3]), c = 'turquoise', s = 50, label = r'samples $T_1$')\n",
    "    else:\n",
    "        plt.scatter(float(mols[i][0].split()[2]), float(mols[i][0].split()[3]), c = 'turquoise', s = 50)\n",
    "        \n",
    "plt.scatter(-1*p_stds[1] + p_means[1], 2*p_stds[3] + p_means[3], c = 'navy', marker = '*', s = 70, label = r'$T_1$')\n",
    "\n",
    "mols = pd.read_csv('/work/projects/tcp/lmedrano/alessio/vae/mol-new/code/fhi/extract/xyzfiles/set2/data-set2.dat', header = None).values\n",
    "print(mols)\n",
    "for i in range(0, len(mols)):\n",
    "    if i == 0:\n",
    "        plt.scatter(float(mols[i][0].split()[2]), float(mols[i][0].split()[3]), c = 'orange', s = 50, label = r'samples $T_2$')\n",
    "    else:\n",
    "        plt.scatter(float(mols[i][0].split()[2]), float(mols[i][0].split()[3]), c = 'orange', s = 50)\n",
    "                \n",
    "plt.scatter(-1.5*p_stds[1] + p_means[1], 1*p_stds[3] + p_means[3], c = 'red', marker = '*', s = 70, label = r'$T_2$')\n",
    "plt.legend(loc = 'lower right', prop = {'size': 14})\n",
    "plt.xlim(-.5, -.2)\n",
    "plt.ylim(80, 120)\n",
    "plt.locator_params(axis='x', nbins=4)\n",
    "plt.locator_params(axis='y', nbins=4)\n",
    "plt.xlabel(r'$E_{MBD}$', fontdict={'size':22})\n",
    "plt.ylabel(r'$\\alpha$', fontdict={'size':22})\n",
    "plt.tight_layout()\n",
    "plt.savefig('./new_chem.pdf', dpi = 100)"
   ]
  }
 ],
 "metadata": {
  "kernelspec": {
   "display_name": "base",
   "language": "python",
   "name": "python3"
  },
  "language_info": {
   "codemirror_mode": {
    "name": "ipython",
    "version": 3
   },
   "file_extension": ".py",
   "mimetype": "text/x-python",
   "name": "python",
   "nbconvert_exporter": "python",
   "pygments_lexer": "ipython3",
   "version": "3.12.2"
  },
  "orig_nbformat": 4
 },
 "nbformat": 4,
 "nbformat_minor": 2
}
